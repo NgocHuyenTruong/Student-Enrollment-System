{
 "cells": [
  {
   "cell_type": "markdown",
   "id": "2b317681",
   "metadata": {},
   "source": [
    "# Part 2: Python Integration"
   ]
  },
  {
   "cell_type": "markdown",
   "id": "5f0098ff",
   "metadata": {},
   "source": [
    "## Database Connection and Connection Test"
   ]
  },
  {
   "cell_type": "code",
   "execution_count": 1,
   "id": "ddff0f28",
   "metadata": {},
   "outputs": [
    {
     "name": "stdout",
     "output_type": "stream",
     "text": [
      "Requirement already satisfied: psycopg2 in c:\\users\\ngochuyen\\anaconda3\\lib\\site-packages (2.9.10)\n",
      "Note: you may need to restart the kernel to use updated packages.\n"
     ]
    }
   ],
   "source": [
    "pip install psycopg2"
   ]
  },
  {
   "cell_type": "code",
   "execution_count": 2,
   "id": "18d27d72",
   "metadata": {},
   "outputs": [],
   "source": [
    "import psycopg2\n",
    "from psycopg2 import sql, extras\n",
    "\n",
    "# Database connection parameters\n",
    "db_config = {\n",
    "    'dbname': 'Huyen Truong 2',\n",
    "    'user': 'postgres',\n",
    "    'password': 'Huyen30032004@',\n",
    "    'host': 'localhost',\n",
    "    'port': 5432\n",
    "}"
   ]
  },
  {
   "cell_type": "code",
   "execution_count": 3,
   "id": "1de87758",
   "metadata": {},
   "outputs": [],
   "source": [
    "# Function to connect to the database\n",
    "def connect_db():\n",
    "    try:\n",
    "        conn = psycopg2.connect(**db_config)\n",
    "        conn.autocommit = True\n",
    "        return conn\n",
    "    except Exception as e:\n",
    "        print(\"Error connecting to the database:\", e)\n",
    "        return None"
   ]
  },
  {
   "cell_type": "code",
   "execution_count": 4,
   "id": "e1751763",
   "metadata": {},
   "outputs": [
    {
     "name": "stdout",
     "output_type": "stream",
     "text": [
      "Connection test successful. Current date: 2024-11-08\n"
     ]
    }
   ],
   "source": [
    "# Test connection with a simple query\n",
    "def test_connection():\n",
    "    conn = connect_db()\n",
    "    if conn is not None:\n",
    "        try:\n",
    "            # Create a cursor\n",
    "            cursor = conn.cursor()\n",
    "            \n",
    "            # Execute a simple query\n",
    "            cursor.execute(\"SELECT CURRENT_DATE;\")\n",
    "            current_date = cursor.fetchone()\n",
    "            print(\"Connection test successful. Current date:\", current_date[0])\n",
    "\n",
    "            # Close cursor and connection\n",
    "            cursor.close()\n",
    "            conn.close()\n",
    "        except Exception as e:\n",
    "            print(\"Error executing the test query:\", e)\n",
    "    else:\n",
    "        print(\"Connection test failed.\")\n",
    "\n",
    "# Run the test\n",
    "test_connection()"
   ]
  },
  {
   "cell_type": "markdown",
   "id": "b6feebe3",
   "metadata": {},
   "source": [
    "# 1. Calling the Stored Procedure"
   ]
  },
  {
   "cell_type": "code",
   "execution_count": 5,
   "id": "6f403f4f",
   "metadata": {},
   "outputs": [],
   "source": [
    "# 1. Calling the Stored Procedure for Enrollment\n",
    "def enroll_student(student_id, course_id):\n",
    "    conn = connect_db()\n",
    "    if not conn:\n",
    "        print(\"Unable to establish a database connection.\")\n",
    "        return\n",
    "\n",
    "    try:\n",
    "        with conn.cursor() as cursor:\n",
    "            # Use the CALL statement to invoke the stored procedure\n",
    "            cursor.execute(f\"CALL EnrollStudent({student_id}, {course_id});\")\n",
    "            print(f\"Enrollment successful for Student ID {student_id} in Course ID {course_id}\")\n",
    "\n",
    "    except psycopg2.Error as e:\n",
    "        # Check specific error messages\n",
    "        if 'course is full' in str(e).lower():\n",
    "            print(f\"Enrollment failed: Course ID {course_id} is full.\")\n",
    "        elif 'already enrolled' in str(e).lower():\n",
    "            print(f\"Enrollment failed: Student ID {student_id} is already enrolled in Course ID {course_id}.\")\n",
    "        else:\n",
    "            print(f\"Enrollment failed for Student ID {student_id} in Course ID {course_id}:\", e)\n",
    "    \n",
    "    finally:\n",
    "        conn.close()"
   ]
  },
  {
   "cell_type": "markdown",
   "id": "7bb3bba1",
   "metadata": {},
   "source": [
    "# 2. Querying the Views"
   ]
  },
  {
   "cell_type": "code",
   "execution_count": 6,
   "id": "64b076a3",
   "metadata": {},
   "outputs": [
    {
     "name": "stdout",
     "output_type": "stream",
     "text": [
      "Requirement already satisfied: tabulate in c:\\users\\ngochuyen\\anaconda3\\lib\\site-packages (0.8.9)\n",
      "Note: you may need to restart the kernel to use updated packages.\n"
     ]
    }
   ],
   "source": [
    "pip install tabulate"
   ]
  },
  {
   "cell_type": "code",
   "execution_count": 7,
   "id": "ba56e8e8",
   "metadata": {},
   "outputs": [],
   "source": [
    "# 2. Querying the Views\n",
    "\n",
    "from tabulate import tabulate\n",
    "\n",
    "# Function to query the StudentCourseView\n",
    "def query_student_course_view():\n",
    "    conn = connect_db()\n",
    "    if not conn:\n",
    "        return\n",
    "\n",
    "    try:\n",
    "        with conn.cursor(cursor_factory=extras.DictCursor) as cursor:\n",
    "            cursor.execute(\"SELECT * FROM StudentCourseView\")\n",
    "            records = cursor.fetchall()\n",
    "            # Convert records to a list of lists for tabulate\n",
    "            table_data = [dict(record) for record in records]\n",
    "            print(\"Student Course View Results:\")\n",
    "            print(tabulate(table_data, headers=\"keys\", tablefmt=\"grid\"))\n",
    "    except Exception as e:\n",
    "        print(\"Error querying StudentCourseView:\", e)\n",
    "    finally:\n",
    "        conn.close()\n",
    "\n",
    "# Function to query the CourseCapacityView\n",
    "def query_course_capacity_view():\n",
    "    conn = connect_db()\n",
    "    if not conn:\n",
    "        return\n",
    "\n",
    "    try:\n",
    "        with conn.cursor(cursor_factory=extras.DictCursor) as cursor:\n",
    "            cursor.execute(\"SELECT * FROM CourseCapacityView\")\n",
    "            records = cursor.fetchall()\n",
    "            # Convert records to a list of lists for tabulate\n",
    "            table_data = [dict(record) for record in records]\n",
    "            print(\"Course Capacity View Results:\")\n",
    "            print(tabulate(table_data, headers=\"keys\", tablefmt=\"grid\"))\n",
    "    except Exception as e:\n",
    "        print(\"Error querying CourseCapacityView:\", e)\n",
    "    finally:\n",
    "        conn.close()\n"
   ]
  },
  {
   "cell_type": "markdown",
   "id": "d4018ec7",
   "metadata": {},
   "source": [
    "# 3. Triggering Events"
   ]
  },
  {
   "cell_type": "code",
   "execution_count": 8,
   "id": "f8ec5a5f",
   "metadata": {},
   "outputs": [],
   "source": [
    "# 3. Triggering Events by Insert and Delete Operations\n",
    "def test_trigger_insert(student_id, course_id):\n",
    "    conn = connect_db()\n",
    "    if not conn:\n",
    "        return\n",
    "\n",
    "    try:\n",
    "        with conn.cursor() as cursor:\n",
    "            cursor.execute(\"INSERT INTO Enrollments (student_id, course_id) VALUES (%s, %s)\", (student_id, course_id))\n",
    "            print(f\"Added enrollment for Student ID {student_id} in Course ID {course_id}\")\n",
    "    except Exception as e:\n",
    "        print(\"Error triggering insert:\", e)\n",
    "    finally:\n",
    "        conn.close()\n",
    "\n",
    "def test_trigger_delete(enrollment_id):\n",
    "    conn = connect_db()\n",
    "    if not conn:\n",
    "        return\n",
    "\n",
    "    try:\n",
    "        with conn.cursor() as cursor:\n",
    "            cursor.execute(\"DELETE FROM Enrollments WHERE enrollment_id = %s\", (enrollment_id,))\n",
    "            print(f\"Removed enrollment with Enrollment ID {enrollment_id}\")\n",
    "    except Exception as e:\n",
    "        print(\"Error triggering delete:\", e)\n",
    "    finally:\n",
    "        conn.close()"
   ]
  },
  {
   "cell_type": "markdown",
   "id": "937cf38e",
   "metadata": {},
   "source": [
    "# Test Plan: University Enrollment System"
   ]
  },
  {
   "cell_type": "markdown",
   "id": "f01b0d7e",
   "metadata": {},
   "source": [
    "### Review the \"Students\" and \"Courses\" Tables\n",
    "\n",
    "Before proceeding with the rest of the operations, let's examine the contents of the \"Students\" and \"Courses\" tables to ensure that we have the necessary data. The following code will query both tables and display their contents in a well-structured tabular format.\n",
    "\n",
    "- **Students Table**: Contains information about the students enrolled in various courses.\n",
    "- **Courses Table**: Lists the courses available for students to enroll in.\n",
    "\n",
    "The tables are displayed using the `tabulate` library for better readability.\n"
   ]
  },
  {
   "cell_type": "code",
   "execution_count": 9,
   "id": "fd6e7220",
   "metadata": {},
   "outputs": [
    {
     "name": "stdout",
     "output_type": "stream",
     "text": [
      "Students Table contains the following records:\n",
      "+--------------+--------------+-------------+-------------------------+\n",
      "|   student_id | first_name   | last_name   | major                   |\n",
      "+==============+==============+=============+=========================+\n",
      "|            1 | Ngoc Huyen   | Truong      | Data Science            |\n",
      "+--------------+--------------+-------------+-------------------------+\n",
      "|            2 | John         | Doe         | Computer Science        |\n",
      "+--------------+--------------+-------------+-------------------------+\n",
      "|            3 | Jane         | Smith       | Mechanical Engineering  |\n",
      "+--------------+--------------+-------------+-------------------------+\n",
      "|            4 | Alice        | Brown       | Electrical Engineering  |\n",
      "+--------------+--------------+-------------+-------------------------+\n",
      "|            5 | Robert       | Johnson     | Business Administration |\n",
      "+--------------+--------------+-------------+-------------------------+\n",
      "Courses Table contains the following records:\n",
      "+-------------+----------------------+-------------------------+----------------+----------------------+\n",
      "|   course_id | course_name          | department              |   max_capacity | remaining_capacity   |\n",
      "+=============+======================+=========================+================+======================+\n",
      "|           1 | Data Structures      | Computer Science        |              5 |                      |\n",
      "+-------------+----------------------+-------------------------+----------------+----------------------+\n",
      "|           2 | Linear Algebra       | Mathematics             |              4 |                      |\n",
      "+-------------+----------------------+-------------------------+----------------+----------------------+\n",
      "|           3 | Physics              | Physics                 |              5 |                      |\n",
      "+-------------+----------------------+-------------------------+----------------+----------------------+\n",
      "|           4 | Marketing Principles | Business Administration |              6 |                      |\n",
      "+-------------+----------------------+-------------------------+----------------+----------------------+\n"
     ]
    }
   ],
   "source": [
    "from tabulate import tabulate\n",
    "\n",
    "# Function to query the Students table and display it in tabular format\n",
    "def query_students_table():\n",
    "    conn = connect_db()\n",
    "    if not conn:\n",
    "        return\n",
    "\n",
    "    try:\n",
    "        with conn.cursor(cursor_factory=extras.DictCursor) as cursor:\n",
    "            cursor.execute(\"SELECT * FROM Students;\")\n",
    "            records = cursor.fetchall()\n",
    "            \n",
    "            # Convert records to a list of dictionaries for tabulate\n",
    "            table_data = [dict(record) for record in records]\n",
    "            if table_data:\n",
    "                print(\"Students Table contains the following records:\")\n",
    "                print(tabulate(table_data, headers=\"keys\", tablefmt=\"grid\"))\n",
    "            else:\n",
    "                print(\"No records found in the Students table.\")\n",
    "    \n",
    "    except Exception as e:\n",
    "        print(\"Error querying Students table:\", e)\n",
    "    finally:\n",
    "        conn.close()\n",
    "\n",
    "# Function to query the Courses table and display it in tabular format\n",
    "def query_courses_table():\n",
    "    conn = connect_db()\n",
    "    if not conn:\n",
    "        return\n",
    "\n",
    "    try:\n",
    "        with conn.cursor(cursor_factory=extras.DictCursor) as cursor:\n",
    "            cursor.execute(\"SELECT * FROM Courses;\")\n",
    "            records = cursor.fetchall()\n",
    "            \n",
    "            # Convert records to a list of dictionaries for tabulate\n",
    "            table_data = [dict(record) for record in records]\n",
    "            if table_data:\n",
    "                print(\"Courses Table contains the following records:\")\n",
    "                print(tabulate(table_data, headers=\"keys\", tablefmt=\"grid\"))\n",
    "            else:\n",
    "                print(\"No records found in the Courses table.\")\n",
    "    \n",
    "    except Exception as e:\n",
    "        print(\"Error querying Courses table:\", e)\n",
    "    finally:\n",
    "        conn.close()\n",
    "\n",
    "# Query and display the Students and Courses tables\n",
    "query_students_table()\n",
    "query_courses_table()\n"
   ]
  },
  {
   "cell_type": "markdown",
   "id": "49930fc8",
   "metadata": {},
   "source": [
    "Before proceeding with the test cases, I created two functions:\n",
    "- **Function to query the Enrollments table**: This function checks the Enrollments table to verify if a student has been successfully enrolled in a course.\n",
    "- **Function to query the EnrollmentLog table**: This function queries the EnrollmentLog table to ensure that an enrollment record was added when the student enrolls or drops a course."
   ]
  },
  {
   "cell_type": "code",
   "execution_count": 10,
   "id": "dee40e7e",
   "metadata": {},
   "outputs": [],
   "source": [
    "# Function to query the Enrollments table\n",
    "def query_enrollments_table():\n",
    "    conn = connect_db()\n",
    "    if not conn:\n",
    "        return\n",
    "\n",
    "    try:\n",
    "        with conn.cursor(cursor_factory=extras.DictCursor) as cursor:\n",
    "            # Query to get all records from the Enrollments table\n",
    "            cursor.execute(\"SELECT * FROM Enrollments\")\n",
    "            records = cursor.fetchall()\n",
    "            \n",
    "            # Convert records to a list of dictionaries for tabulate\n",
    "            table_data = [dict(record) for record in records]\n",
    "            if table_data:\n",
    "                print(\"Enrollments Table contains the following records:\")\n",
    "                print(tabulate(table_data, headers=\"keys\", tablefmt=\"grid\"))\n",
    "            else:\n",
    "                print(\"No records found in the Enrollments table.\")\n",
    "    \n",
    "    except Exception as e:\n",
    "        print(\"Error querying Enrollments table:\", e)\n",
    "    finally:\n",
    "        conn.close()\n"
   ]
  },
  {
   "cell_type": "code",
   "execution_count": 11,
   "id": "4bbd1156",
   "metadata": {},
   "outputs": [],
   "source": [
    "# Function to query the EnrollmentLog table\n",
    "def query_enrollment_log():\n",
    "    conn = connect_db()  \n",
    "    if not conn:\n",
    "        return\n",
    "\n",
    "    try:\n",
    "        with conn.cursor(cursor_factory=extras.DictCursor) as cursor:\n",
    "            # Query to get all records from the EnrollmentLog table\n",
    "            cursor.execute(\"SELECT * FROM EnrollmentLog\")\n",
    "            records = cursor.fetchall()\n",
    "            \n",
    "            # Convert records to a list of dictionaries for tabulate\n",
    "            table_data = [dict(record) for record in records]\n",
    "            \n",
    "            if table_data:\n",
    "                print(\"EnrollmentLog Table contains the following logs:\")\n",
    "                print(tabulate(table_data, headers=\"keys\", tablefmt=\"grid\"))\n",
    "            else:\n",
    "                print(\"No records found in the EnrollmentLog table.\")\n",
    "    \n",
    "    except Exception as e:\n",
    "        print(\"Error querying EnrollmentLog table:\", e)\n",
    "    finally:\n",
    "        conn.close()\n"
   ]
  },
  {
   "cell_type": "markdown",
   "id": "50fb53dc",
   "metadata": {},
   "source": [
    "# Test Case 0: Successful Enrollment"
   ]
  },
  {
   "cell_type": "code",
   "execution_count": 12,
   "id": "0e207326",
   "metadata": {},
   "outputs": [],
   "source": [
    "# Test Case 0: Successful Enrollment\n",
    "def test_case_successful_enrollment():\n",
    "    student_id = 1  # Ngoc Huyen Truong\n",
    "    course_id = 1   # Data Structures\n",
    "\n",
    "    # Step 1: Call the enrollment function to enroll the student\n",
    "    print(\"Running Test Case 0: Successful Enrollment\")\n",
    "    enroll_student(student_id, course_id)\n",
    "    \n",
    "    # Step 2: Query the Enrollments table to check if the record has been inserted\n",
    "    print(\"\\n--- Enrollments Table after Enrollment ---\")\n",
    "    query_enrollments_table()\n",
    "    \n",
    "    # Step 3: Query the StudentCourseView to confirm the enrollment\n",
    "    print(\"\\n--- StudentCourseView after Enrollment ---\")\n",
    "    query_student_course_view()\n",
    "    \n",
    "    # Step 4: Query the CourseCapacityView to check the updated capacity\n",
    "    print(\"\\n--- CourseCapacityView after Enrollment ---\")\n",
    "    query_course_capacity_view()\n",
    "    \n",
    "    # Step 5: Query the EnrollmentLog table to ensure the enrollment event was logged\n",
    "    print(\"\\n--- EnrollmentLog Table after Enrollment ---\")\n",
    "    query_enrollment_log()\n",
    "    "
   ]
  },
  {
   "cell_type": "code",
   "execution_count": 13,
   "id": "4c39c66a",
   "metadata": {
    "scrolled": false
   },
   "outputs": [
    {
     "name": "stdout",
     "output_type": "stream",
     "text": [
      "Running Test Case 0: Successful Enrollment\n",
      "Enrollment successful for Student ID 1 in Course ID 1\n",
      "\n",
      "--- Enrollments Table after Enrollment ---\n",
      "Enrollments Table contains the following records:\n",
      "+-----------------+--------------+-------------+----------------------------+\n",
      "|   enrollment_id |   student_id |   course_id | enrollment_date            |\n",
      "+=================+==============+=============+============================+\n",
      "|               1 |            1 |           1 | 2024-11-08 16:46:38.309118 |\n",
      "+-----------------+--------------+-------------+----------------------------+\n",
      "\n",
      "--- StudentCourseView after Enrollment ---\n",
      "Student Course View Results:\n",
      "+--------------+-------------------+-----------------+----------------------------+\n",
      "|   student_id | student_name      | course_name     | enrollment_date            |\n",
      "+==============+===================+=================+============================+\n",
      "|            1 | Ngoc Huyen Truong | Data Structures | 2024-11-08 16:46:38.309118 |\n",
      "+--------------+-------------------+-----------------+----------------------------+\n",
      "\n",
      "--- CourseCapacityView after Enrollment ---\n",
      "Course Capacity View Results:\n",
      "+-------------+----------------------+-------------------------+----------------------+----------------------+\n",
      "|   course_id | course_name          | department              |   current_enrollment |   remaining_capacity |\n",
      "+=============+======================+=========================+======================+======================+\n",
      "|           4 | Marketing Principles | Business Administration |                    0 |                    6 |\n",
      "+-------------+----------------------+-------------------------+----------------------+----------------------+\n",
      "|           2 | Linear Algebra       | Mathematics             |                    0 |                    4 |\n",
      "+-------------+----------------------+-------------------------+----------------------+----------------------+\n",
      "|           1 | Data Structures      | Computer Science        |                    1 |                    4 |\n",
      "+-------------+----------------------+-------------------------+----------------------+----------------------+\n",
      "|           3 | Physics              | Physics                 |                    0 |                    5 |\n",
      "+-------------+----------------------+-------------------------+----------------------+----------------------+\n",
      "\n",
      "--- EnrollmentLog Table after Enrollment ---\n",
      "EnrollmentLog Table contains the following logs:\n",
      "+----------+----------+--------------+-------------+----------------------------+\n",
      "|   log_id | action   |   student_id |   course_id | event_time                 |\n",
      "+==========+==========+==============+=============+============================+\n",
      "|        1 | ENROLL   |            1 |           1 | 2024-11-08 16:46:38.309118 |\n",
      "+----------+----------+--------------+-------------+----------------------------+\n"
     ]
    }
   ],
   "source": [
    "# Run Test Case 0\n",
    "test_case_successful_enrollment()"
   ]
  },
  {
   "cell_type": "markdown",
   "id": "32a2fbbf",
   "metadata": {},
   "source": [
    "# Test Case 1: Course Capacity Update After Multiple Enrollments"
   ]
  },
  {
   "cell_type": "code",
   "execution_count": 14,
   "id": "c2b6d496",
   "metadata": {},
   "outputs": [
    {
     "name": "stdout",
     "output_type": "stream",
     "text": [
      "\n",
      "Enrolling Student ID 1 in Course ID 4\n",
      "Enrollment successful for Student ID 1 in Course ID 4\n",
      "Course Capacity View after enrollment:\n",
      "Course Capacity View Results:\n",
      "+-------------+----------------------+-------------------------+----------------------+----------------------+\n",
      "|   course_id | course_name          | department              |   current_enrollment |   remaining_capacity |\n",
      "+=============+======================+=========================+======================+======================+\n",
      "|           4 | Marketing Principles | Business Administration |                    1 |                    5 |\n",
      "+-------------+----------------------+-------------------------+----------------------+----------------------+\n",
      "|           2 | Linear Algebra       | Mathematics             |                    0 |                    4 |\n",
      "+-------------+----------------------+-------------------------+----------------------+----------------------+\n",
      "|           1 | Data Structures      | Computer Science        |                    1 |                    4 |\n",
      "+-------------+----------------------+-------------------------+----------------------+----------------------+\n",
      "|           3 | Physics              | Physics                 |                    0 |                    5 |\n",
      "+-------------+----------------------+-------------------------+----------------------+----------------------+\n",
      "\n",
      "Enrolling Student ID 2 in Course ID 4\n",
      "Enrollment successful for Student ID 2 in Course ID 4\n",
      "Course Capacity View after enrollment:\n",
      "Course Capacity View Results:\n",
      "+-------------+----------------------+-------------------------+----------------------+----------------------+\n",
      "|   course_id | course_name          | department              |   current_enrollment |   remaining_capacity |\n",
      "+=============+======================+=========================+======================+======================+\n",
      "|           4 | Marketing Principles | Business Administration |                    2 |                    4 |\n",
      "+-------------+----------------------+-------------------------+----------------------+----------------------+\n",
      "|           2 | Linear Algebra       | Mathematics             |                    0 |                    4 |\n",
      "+-------------+----------------------+-------------------------+----------------------+----------------------+\n",
      "|           1 | Data Structures      | Computer Science        |                    1 |                    4 |\n",
      "+-------------+----------------------+-------------------------+----------------------+----------------------+\n",
      "|           3 | Physics              | Physics                 |                    0 |                    5 |\n",
      "+-------------+----------------------+-------------------------+----------------------+----------------------+\n",
      "\n",
      "Enrolling Student ID 3 in Course ID 4\n",
      "Enrollment successful for Student ID 3 in Course ID 4\n",
      "Course Capacity View after enrollment:\n",
      "Course Capacity View Results:\n",
      "+-------------+----------------------+-------------------------+----------------------+----------------------+\n",
      "|   course_id | course_name          | department              |   current_enrollment |   remaining_capacity |\n",
      "+=============+======================+=========================+======================+======================+\n",
      "|           4 | Marketing Principles | Business Administration |                    3 |                    3 |\n",
      "+-------------+----------------------+-------------------------+----------------------+----------------------+\n",
      "|           2 | Linear Algebra       | Mathematics             |                    0 |                    4 |\n",
      "+-------------+----------------------+-------------------------+----------------------+----------------------+\n",
      "|           1 | Data Structures      | Computer Science        |                    1 |                    4 |\n",
      "+-------------+----------------------+-------------------------+----------------------+----------------------+\n",
      "|           3 | Physics              | Physics                 |                    0 |                    5 |\n",
      "+-------------+----------------------+-------------------------+----------------------+----------------------+\n",
      "Enrollments Table after enrollment:\n",
      "Enrollments Table contains the following records:\n",
      "+-----------------+--------------+-------------+----------------------------+\n",
      "|   enrollment_id |   student_id |   course_id | enrollment_date            |\n",
      "+=================+==============+=============+============================+\n",
      "|               1 |            1 |           1 | 2024-11-08 16:46:38.309118 |\n",
      "+-----------------+--------------+-------------+----------------------------+\n",
      "|               2 |            1 |           4 | 2024-11-08 16:46:46.629824 |\n",
      "+-----------------+--------------+-------------+----------------------------+\n",
      "|               3 |            2 |           4 | 2024-11-08 16:46:46.757886 |\n",
      "+-----------------+--------------+-------------+----------------------------+\n",
      "|               4 |            3 |           4 | 2024-11-08 16:46:46.886896 |\n",
      "+-----------------+--------------+-------------+----------------------------+\n"
     ]
    }
   ],
   "source": [
    "# Test Case 1: Course Capacity Update After Multiple Enrollments\n",
    "\n",
    "def test_case_multiple_enrollments():\n",
    "    # Initial data for test\n",
    "    course_id = 4  #\"Marketing Principles\" with max_capacity = 6\n",
    "    student_ids = [1, 2, 3]  # List of student IDs to enroll\n",
    "\n",
    "    # Enroll each student in the course one by one\n",
    "    for student_id in student_ids:\n",
    "        print(f\"\\nEnrolling Student ID {student_id} in Course ID {course_id}\")\n",
    "        \n",
    "        # Enroll student\n",
    "        enroll_student(student_id, course_id)\n",
    "        \n",
    "        # Query the CourseCapacityView to verify capacity update\n",
    "        print(\"Course Capacity View after enrollment:\")\n",
    "        query_course_capacity_view()\n",
    "        \n",
    "    # Query the Enrollments table to verify enrollment record was added\n",
    "    print(\"Enrollments Table after enrollment:\")\n",
    "    query_enrollments_table()\n",
    "\n",
    "# Run Test Case 1\n",
    "test_case_multiple_enrollments()\n"
   ]
  },
  {
   "cell_type": "markdown",
   "id": "b08fbb68",
   "metadata": {},
   "source": [
    "# Test Case 2: Event Logging for Enrollment"
   ]
  },
  {
   "cell_type": "code",
   "execution_count": 15,
   "id": "331ff1d1",
   "metadata": {},
   "outputs": [
    {
     "name": "stdout",
     "output_type": "stream",
     "text": [
      "\n",
      "Enrolling Student ID 4 in Course ID 3\n",
      "Enrollment successful for Student ID 4 in Course ID 3\n",
      "\n",
      "Checking EnrollmentLog for enrollment action:\n",
      "EnrollmentLog Table contains the following logs:\n",
      "+----------+----------+--------------+-------------+----------------------------+\n",
      "|   log_id | action   |   student_id |   course_id | event_time                 |\n",
      "+==========+==========+==============+=============+============================+\n",
      "|        1 | ENROLL   |            1 |           1 | 2024-11-08 16:46:38.309118 |\n",
      "+----------+----------+--------------+-------------+----------------------------+\n",
      "|        2 | ENROLL   |            1 |           4 | 2024-11-08 16:46:46.629824 |\n",
      "+----------+----------+--------------+-------------+----------------------------+\n",
      "|        3 | ENROLL   |            2 |           4 | 2024-11-08 16:46:46.757886 |\n",
      "+----------+----------+--------------+-------------+----------------------------+\n",
      "|        4 | ENROLL   |            3 |           4 | 2024-11-08 16:46:46.886896 |\n",
      "+----------+----------+--------------+-------------+----------------------------+\n",
      "|        5 | ENROLL   |            4 |           3 | 2024-11-08 16:46:51.214548 |\n",
      "+----------+----------+--------------+-------------+----------------------------+\n",
      "\n",
      "Checking StudentCourseView for confirmation of enrollment:\n",
      "Student Course View Results:\n",
      "+--------------+-------------------+----------------------+----------------------------+\n",
      "|   student_id | student_name      | course_name          | enrollment_date            |\n",
      "+==============+===================+======================+============================+\n",
      "|            1 | Ngoc Huyen Truong | Data Structures      | 2024-11-08 16:46:38.309118 |\n",
      "+--------------+-------------------+----------------------+----------------------------+\n",
      "|            1 | Ngoc Huyen Truong | Marketing Principles | 2024-11-08 16:46:46.629824 |\n",
      "+--------------+-------------------+----------------------+----------------------------+\n",
      "|            2 | John Doe          | Marketing Principles | 2024-11-08 16:46:46.757886 |\n",
      "+--------------+-------------------+----------------------+----------------------------+\n",
      "|            3 | Jane Smith        | Marketing Principles | 2024-11-08 16:46:46.886896 |\n",
      "+--------------+-------------------+----------------------+----------------------------+\n",
      "|            4 | Alice Brown       | Physics              | 2024-11-08 16:46:51.214548 |\n",
      "+--------------+-------------------+----------------------+----------------------------+\n",
      "\n",
      "Checking CourseCapacityView for updated remaining capacity:\n",
      "Course Capacity View Results:\n",
      "+-------------+----------------------+-------------------------+----------------------+----------------------+\n",
      "|   course_id | course_name          | department              |   current_enrollment |   remaining_capacity |\n",
      "+=============+======================+=========================+======================+======================+\n",
      "|           4 | Marketing Principles | Business Administration |                    3 |                    3 |\n",
      "+-------------+----------------------+-------------------------+----------------------+----------------------+\n",
      "|           2 | Linear Algebra       | Mathematics             |                    0 |                    4 |\n",
      "+-------------+----------------------+-------------------------+----------------------+----------------------+\n",
      "|           1 | Data Structures      | Computer Science        |                    1 |                    4 |\n",
      "+-------------+----------------------+-------------------------+----------------------+----------------------+\n",
      "|           3 | Physics              | Physics                 |                    1 |                    4 |\n",
      "+-------------+----------------------+-------------------------+----------------------+----------------------+\n"
     ]
    }
   ],
   "source": [
    "# Test Case 2: Event Logging for Enrollment\n",
    "\n",
    "def test_case_event_logging():\n",
    "    # Initial data for test\n",
    "    student_id = 4  # Student ID 4 (Alice Brown) exists\n",
    "    course_id = 3   # \"Physics\" course with available capacity\n",
    "\n",
    "    # Step 1: Enroll the student in the course\n",
    "    print(f\"\\nEnrolling Student ID {student_id} in Course ID {course_id}\")\n",
    "    enroll_student(student_id, course_id)\n",
    "    \n",
    "    # Step 2: Query the EnrollmentLog table to verify action 'ENROLL' was logged\n",
    "    print(\"\\nChecking EnrollmentLog for enrollment action:\")\n",
    "    query_enrollment_log()\n",
    "\n",
    "    # Step 3: Query the StudentCourseView to confirm the enrollment\n",
    "    print(\"\\nChecking StudentCourseView for confirmation of enrollment:\")\n",
    "    query_student_course_view()\n",
    "\n",
    "    # Step 4: Query the CourseCapacityView to ensure capacity was reduced by 1\n",
    "    print(\"\\nChecking CourseCapacityView for updated remaining capacity:\")\n",
    "    query_course_capacity_view()\n",
    "\n",
    "# Run Test Case 2\n",
    "test_case_event_logging()\n"
   ]
  },
  {
   "cell_type": "markdown",
   "id": "58c02adc",
   "metadata": {},
   "source": [
    "# Test Case 3: Double Enrollment Prevention"
   ]
  },
  {
   "cell_type": "code",
   "execution_count": 16,
   "id": "96d2af52",
   "metadata": {},
   "outputs": [
    {
     "name": "stdout",
     "output_type": "stream",
     "text": [
      "Enrollments Table contains the following records:\n",
      "+-----------------+--------------+-------------+----------------------------+\n",
      "|   enrollment_id |   student_id |   course_id | enrollment_date            |\n",
      "+=================+==============+=============+============================+\n",
      "|               1 |            1 |           1 | 2024-11-08 16:46:38.309118 |\n",
      "+-----------------+--------------+-------------+----------------------------+\n",
      "|               2 |            1 |           4 | 2024-11-08 16:46:46.629824 |\n",
      "+-----------------+--------------+-------------+----------------------------+\n",
      "|               3 |            2 |           4 | 2024-11-08 16:46:46.757886 |\n",
      "+-----------------+--------------+-------------+----------------------------+\n",
      "|               4 |            3 |           4 | 2024-11-08 16:46:46.886896 |\n",
      "+-----------------+--------------+-------------+----------------------------+\n",
      "|               5 |            4 |           3 | 2024-11-08 16:46:51.214548 |\n",
      "+-----------------+--------------+-------------+----------------------------+\n"
     ]
    }
   ],
   "source": [
    "#Query to confirm precondition: Student id 4 is already enrolled in course_id = 3\n",
    "query_enrollments_table()"
   ]
  },
  {
   "cell_type": "code",
   "execution_count": 17,
   "id": "f5357445",
   "metadata": {
    "scrolled": true
   },
   "outputs": [
    {
     "name": "stdout",
     "output_type": "stream",
     "text": [
      "Enrollment failed: Student ID 4 is already enrolled in Course ID 3.\n",
      "\n",
      "Checking Enrollments table to ensure no duplicate enrollment exists:\n",
      "Enrollments Table contains the following records:\n",
      "+-----------------+--------------+-------------+----------------------------+\n",
      "|   enrollment_id |   student_id |   course_id | enrollment_date            |\n",
      "+=================+==============+=============+============================+\n",
      "|               1 |            1 |           1 | 2024-11-08 16:46:38.309118 |\n",
      "+-----------------+--------------+-------------+----------------------------+\n",
      "|               2 |            1 |           4 | 2024-11-08 16:46:46.629824 |\n",
      "+-----------------+--------------+-------------+----------------------------+\n",
      "|               3 |            2 |           4 | 2024-11-08 16:46:46.757886 |\n",
      "+-----------------+--------------+-------------+----------------------------+\n",
      "|               4 |            3 |           4 | 2024-11-08 16:46:46.886896 |\n",
      "+-----------------+--------------+-------------+----------------------------+\n",
      "|               5 |            4 |           3 | 2024-11-08 16:46:51.214548 |\n",
      "+-----------------+--------------+-------------+----------------------------+\n",
      "\n",
      "Checking EnrollmentLog for no added action:\n",
      "EnrollmentLog Table contains the following logs:\n",
      "+----------+----------+--------------+-------------+----------------------------+\n",
      "|   log_id | action   |   student_id |   course_id | event_time                 |\n",
      "+==========+==========+==============+=============+============================+\n",
      "|        1 | ENROLL   |            1 |           1 | 2024-11-08 16:46:38.309118 |\n",
      "+----------+----------+--------------+-------------+----------------------------+\n",
      "|        2 | ENROLL   |            1 |           4 | 2024-11-08 16:46:46.629824 |\n",
      "+----------+----------+--------------+-------------+----------------------------+\n",
      "|        3 | ENROLL   |            2 |           4 | 2024-11-08 16:46:46.757886 |\n",
      "+----------+----------+--------------+-------------+----------------------------+\n",
      "|        4 | ENROLL   |            3 |           4 | 2024-11-08 16:46:46.886896 |\n",
      "+----------+----------+--------------+-------------+----------------------------+\n",
      "|        5 | ENROLL   |            4 |           3 | 2024-11-08 16:46:51.214548 |\n",
      "+----------+----------+--------------+-------------+----------------------------+\n"
     ]
    }
   ],
   "source": [
    "# Test Case 3: Double Enrollment Prevention\n",
    "\n",
    "def test_case_double_enrollment_prevention():\n",
    "    # Initial data for test\n",
    "    student_id = 4  # Student ID 4 (Alice Brown) exists\n",
    "    course_id = 3   # \"Physics\" \n",
    "\n",
    "    # Step 1: Attempt to enroll the student in the same course again\n",
    "    enroll_student(student_id, course_id) \n",
    "    \n",
    "    # Step 2: Query the Enrollments table to confirm no duplicate enrollment\n",
    "    print(\"\\nChecking Enrollments table to ensure no duplicate enrollment exists:\")\n",
    "    query_enrollments_table() \n",
    "\n",
    "    # Step 3: Verify that the EnrollmentLog table has no added records\n",
    "    print(\"\\nChecking EnrollmentLog for no added action:\")\n",
    "    query_enrollment_log()  \n",
    "\n",
    "# Run Test Case 3\n",
    "test_case_double_enrollment_prevention()\n"
   ]
  },
  {
   "cell_type": "markdown",
   "id": "3c57f8b2",
   "metadata": {},
   "source": [
    "# Test Case 4: Successful Unenrollment"
   ]
  },
  {
   "cell_type": "code",
   "execution_count": 18,
   "id": "be3c4112",
   "metadata": {
    "scrolled": true
   },
   "outputs": [
    {
     "name": "stdout",
     "output_type": "stream",
     "text": [
      "Precondition check: Confirming initial enrollment exists for unenrollment.\n",
      "Enrollments Table contains the following records:\n",
      "+-----------------+--------------+-------------+----------------------------+\n",
      "|   enrollment_id |   student_id |   course_id | enrollment_date            |\n",
      "+=================+==============+=============+============================+\n",
      "|               1 |            1 |           1 | 2024-11-08 16:46:38.309118 |\n",
      "+-----------------+--------------+-------------+----------------------------+\n",
      "|               2 |            1 |           4 | 2024-11-08 16:46:46.629824 |\n",
      "+-----------------+--------------+-------------+----------------------------+\n",
      "|               3 |            2 |           4 | 2024-11-08 16:46:46.757886 |\n",
      "+-----------------+--------------+-------------+----------------------------+\n",
      "|               4 |            3 |           4 | 2024-11-08 16:46:46.886896 |\n",
      "+-----------------+--------------+-------------+----------------------------+\n",
      "|               5 |            4 |           3 | 2024-11-08 16:46:51.214548 |\n",
      "+-----------------+--------------+-------------+----------------------------+\n"
     ]
    }
   ],
   "source": [
    "# Initial check to confirm that student_id = 4 is enrolled in course_id = 3\n",
    "print(\"Precondition check: Confirming initial enrollment exists for unenrollment.\")\n",
    "query_enrollments_table()"
   ]
  },
  {
   "cell_type": "code",
   "execution_count": 19,
   "id": "a3b5e87c",
   "metadata": {
    "scrolled": true
   },
   "outputs": [
    {
     "name": "stdout",
     "output_type": "stream",
     "text": [
      "\n",
      "Attempting to unenroll Student ID 4 from Course ID 3.\n",
      "Removed enrollment with Enrollment ID 5\n",
      "\n",
      "Checking CourseCapacityView to confirm capacity has increased:\n",
      "Course Capacity View Results:\n",
      "+-------------+----------------------+-------------------------+----------------------+----------------------+\n",
      "|   course_id | course_name          | department              |   current_enrollment |   remaining_capacity |\n",
      "+=============+======================+=========================+======================+======================+\n",
      "|           4 | Marketing Principles | Business Administration |                    3 |                    3 |\n",
      "+-------------+----------------------+-------------------------+----------------------+----------------------+\n",
      "|           2 | Linear Algebra       | Mathematics             |                    0 |                    4 |\n",
      "+-------------+----------------------+-------------------------+----------------------+----------------------+\n",
      "|           1 | Data Structures      | Computer Science        |                    1 |                    4 |\n",
      "+-------------+----------------------+-------------------------+----------------------+----------------------+\n",
      "|           3 | Physics              | Physics                 |                    0 |                    5 |\n",
      "+-------------+----------------------+-------------------------+----------------------+----------------------+\n",
      "\n",
      "Checking EnrollmentLog for the 'DROP' action:\n",
      "EnrollmentLog Table contains the following logs:\n",
      "+----------+----------+--------------+-------------+----------------------------+\n",
      "|   log_id | action   |   student_id |   course_id | event_time                 |\n",
      "+==========+==========+==============+=============+============================+\n",
      "|        1 | ENROLL   |            1 |           1 | 2024-11-08 16:46:38.309118 |\n",
      "+----------+----------+--------------+-------------+----------------------------+\n",
      "|        2 | ENROLL   |            1 |           4 | 2024-11-08 16:46:46.629824 |\n",
      "+----------+----------+--------------+-------------+----------------------------+\n",
      "|        3 | ENROLL   |            2 |           4 | 2024-11-08 16:46:46.757886 |\n",
      "+----------+----------+--------------+-------------+----------------------------+\n",
      "|        4 | ENROLL   |            3 |           4 | 2024-11-08 16:46:46.886896 |\n",
      "+----------+----------+--------------+-------------+----------------------------+\n",
      "|        5 | ENROLL   |            4 |           3 | 2024-11-08 16:46:51.214548 |\n",
      "+----------+----------+--------------+-------------+----------------------------+\n",
      "|        6 | DROP     |            4 |           3 | 2024-11-08 16:46:59.805961 |\n",
      "+----------+----------+--------------+-------------+----------------------------+\n",
      "\n",
      "Final confirmation in Enrollments table to ensure no record exists for this unenrollment:\n",
      "Enrollments Table contains the following records:\n",
      "+-----------------+--------------+-------------+----------------------------+\n",
      "|   enrollment_id |   student_id |   course_id | enrollment_date            |\n",
      "+=================+==============+=============+============================+\n",
      "|               1 |            1 |           1 | 2024-11-08 16:46:38.309118 |\n",
      "+-----------------+--------------+-------------+----------------------------+\n",
      "|               2 |            1 |           4 | 2024-11-08 16:46:46.629824 |\n",
      "+-----------------+--------------+-------------+----------------------------+\n",
      "|               3 |            2 |           4 | 2024-11-08 16:46:46.757886 |\n",
      "+-----------------+--------------+-------------+----------------------------+\n",
      "|               4 |            3 |           4 | 2024-11-08 16:46:46.886896 |\n",
      "+-----------------+--------------+-------------+----------------------------+\n"
     ]
    }
   ],
   "source": [
    "# Test Case 4: Successful Unenrollment\n",
    "\n",
    "def test_case_successful_unenrollment():\n",
    "    # Initial data for the test\n",
    "    enrollment_id = 5\n",
    "    student_id = 4 # Student ID 4 (Alice Brown) exists and is enrolled in Course ID 3\n",
    "    course_id = 3   #Physics\n",
    "\n",
    "    # Step 1: Remove the enrollment for student_id = 4 in course_id = 3 with enrollment_id = 5\n",
    "    print(f\"\\nAttempting to unenroll Student ID {student_id} from Course ID {course_id}.\")\n",
    "    test_trigger_delete(enrollment_id)  \n",
    "\n",
    "    # Step 2: Query the CourseCapacityView to ensure the remaining capacity increased by 1\n",
    "    print(\"\\nChecking CourseCapacityView to confirm capacity has increased:\")\n",
    "    query_course_capacity_view()  \n",
    "\n",
    "    # Step 3: Verify that the EnrollmentLog records the DROP action\n",
    "    print(\"\\nChecking EnrollmentLog for the 'DROP' action:\")\n",
    "    query_enrollment_log()  \n",
    "\n",
    "    # Step 4: Final check to confirm unenrollment in Enrollments table\n",
    "    print(\"\\nFinal confirmation in Enrollments table to ensure no record exists for this unenrollment:\")\n",
    "    query_enrollments_table()  # Should not have any record for student_id = 1 in course_id = 1\n",
    "\n",
    "# Run Test Case 4\n",
    "test_case_successful_unenrollment()\n"
   ]
  },
  {
   "cell_type": "markdown",
   "id": "b2eb27a6",
   "metadata": {},
   "source": [
    "# Test Case 5: Full Course Enrollment"
   ]
  },
  {
   "cell_type": "code",
   "execution_count": 20,
   "id": "0325a18d",
   "metadata": {
    "scrolled": true
   },
   "outputs": [
    {
     "name": "stdout",
     "output_type": "stream",
     "text": [
      "\n",
      "Enrolling Student ID 1 in Course ID 2\n",
      "Enrollment successful for Student ID 1 in Course ID 2\n",
      "\n",
      "Enrolling Student ID 2 in Course ID 2\n",
      "Enrollment successful for Student ID 2 in Course ID 2\n",
      "\n",
      "Enrolling Student ID 3 in Course ID 2\n",
      "Enrollment successful for Student ID 3 in Course ID 2\n",
      "\n",
      "Enrolling Student ID 4 in Course ID 2\n",
      "Enrollment successful for Student ID 4 in Course ID 2\n",
      "\n",
      "Precondition check: Confirming course capacity and current enrollments before testing full course enrollment.\n",
      "Course Capacity View Results:\n",
      "+-------------+----------------------+-------------------------+----------------------+----------------------+\n",
      "|   course_id | course_name          | department              |   current_enrollment |   remaining_capacity |\n",
      "+=============+======================+=========================+======================+======================+\n",
      "|           4 | Marketing Principles | Business Administration |                    3 |                    3 |\n",
      "+-------------+----------------------+-------------------------+----------------------+----------------------+\n",
      "|           2 | Linear Algebra       | Mathematics             |                    4 |                    0 |\n",
      "+-------------+----------------------+-------------------------+----------------------+----------------------+\n",
      "|           1 | Data Structures      | Computer Science        |                    1 |                    4 |\n",
      "+-------------+----------------------+-------------------------+----------------------+----------------------+\n",
      "|           3 | Physics              | Physics                 |                    0 |                    5 |\n",
      "+-------------+----------------------+-------------------------+----------------------+----------------------+\n",
      "Enrollments Table contains the following records:\n",
      "+-----------------+--------------+-------------+----------------------------+\n",
      "|   enrollment_id |   student_id |   course_id | enrollment_date            |\n",
      "+=================+==============+=============+============================+\n",
      "|               1 |            1 |           1 | 2024-11-08 16:46:38.309118 |\n",
      "+-----------------+--------------+-------------+----------------------------+\n",
      "|               2 |            1 |           4 | 2024-11-08 16:46:46.629824 |\n",
      "+-----------------+--------------+-------------+----------------------------+\n",
      "|               3 |            2 |           4 | 2024-11-08 16:46:46.757886 |\n",
      "+-----------------+--------------+-------------+----------------------------+\n",
      "|               4 |            3 |           4 | 2024-11-08 16:46:46.886896 |\n",
      "+-----------------+--------------+-------------+----------------------------+\n",
      "|               6 |            1 |           2 | 2024-11-08 16:47:01.927326 |\n",
      "+-----------------+--------------+-------------+----------------------------+\n",
      "|               7 |            2 |           2 | 2024-11-08 16:47:01.990346 |\n",
      "+-----------------+--------------+-------------+----------------------------+\n",
      "|               8 |            3 |           2 | 2024-11-08 16:47:02.051897 |\n",
      "+-----------------+--------------+-------------+----------------------------+\n",
      "|               9 |            4 |           2 | 2024-11-08 16:47:02.116509 |\n",
      "+-----------------+--------------+-------------+----------------------------+\n"
     ]
    }
   ],
   "source": [
    "# Data Preparation: Enroll students to fill the course capacity\n",
    "course_id = 2  # \"Linear Algebra\" with max_capacity = 4\n",
    "student_ids = [1, 2, 3, 4]  # List of student IDs to enroll\n",
    "\n",
    "# Enroll each student in the course one by one\n",
    "for student_id in student_ids:\n",
    "    print(f\"\\nEnrolling Student ID {student_id} in Course ID {course_id}\")\n",
    "    enroll_student(student_id, course_id)\n",
    "\n",
    "# Precondition Check: Confirm course capacity and enrollment status\n",
    "print(\"\\nPrecondition check: Confirming course capacity and current enrollments before testing full course enrollment.\")\n",
    "query_course_capacity_view()  # Verify that the course is at full capacity\n",
    "query_enrollments_table()      # Confirm the enrolled students\n"
   ]
  },
  {
   "cell_type": "code",
   "execution_count": 21,
   "id": "27838617",
   "metadata": {},
   "outputs": [
    {
     "name": "stdout",
     "output_type": "stream",
     "text": [
      "\n",
      "Attempting to enroll Student ID 5 in Course ID 2 (which is already full).\n",
      "Enrollment failed for Student ID 5 in Course ID 2: Enrollment failed: Course at full capacity\n",
      "CONTEXT:  PL/pgSQL function enrollstudent(integer,integer) line 27 at RAISE\n",
      "\n",
      "\n",
      "Checking Enrollments table to confirm no enrollment was added for this full course:\n",
      "Enrollments Table contains the following records:\n",
      "+-----------------+--------------+-------------+----------------------------+\n",
      "|   enrollment_id |   student_id |   course_id | enrollment_date            |\n",
      "+=================+==============+=============+============================+\n",
      "|               1 |            1 |           1 | 2024-11-08 16:46:38.309118 |\n",
      "+-----------------+--------------+-------------+----------------------------+\n",
      "|               2 |            1 |           4 | 2024-11-08 16:46:46.629824 |\n",
      "+-----------------+--------------+-------------+----------------------------+\n",
      "|               3 |            2 |           4 | 2024-11-08 16:46:46.757886 |\n",
      "+-----------------+--------------+-------------+----------------------------+\n",
      "|               4 |            3 |           4 | 2024-11-08 16:46:46.886896 |\n",
      "+-----------------+--------------+-------------+----------------------------+\n",
      "|               6 |            1 |           2 | 2024-11-08 16:47:01.927326 |\n",
      "+-----------------+--------------+-------------+----------------------------+\n",
      "|               7 |            2 |           2 | 2024-11-08 16:47:01.990346 |\n",
      "+-----------------+--------------+-------------+----------------------------+\n",
      "|               8 |            3 |           2 | 2024-11-08 16:47:02.051897 |\n",
      "+-----------------+--------------+-------------+----------------------------+\n",
      "|               9 |            4 |           2 | 2024-11-08 16:47:02.116509 |\n",
      "+-----------------+--------------+-------------+----------------------------+\n",
      "\n",
      "Checking CourseCapacityView to ensure the remaining capacity is still 0 (indicating course is full):\n",
      "Course Capacity View Results:\n",
      "+-------------+----------------------+-------------------------+----------------------+----------------------+\n",
      "|   course_id | course_name          | department              |   current_enrollment |   remaining_capacity |\n",
      "+=============+======================+=========================+======================+======================+\n",
      "|           4 | Marketing Principles | Business Administration |                    3 |                    3 |\n",
      "+-------------+----------------------+-------------------------+----------------------+----------------------+\n",
      "|           2 | Linear Algebra       | Mathematics             |                    4 |                    0 |\n",
      "+-------------+----------------------+-------------------------+----------------------+----------------------+\n",
      "|           1 | Data Structures      | Computer Science        |                    1 |                    4 |\n",
      "+-------------+----------------------+-------------------------+----------------------+----------------------+\n",
      "|           3 | Physics              | Physics                 |                    0 |                    5 |\n",
      "+-------------+----------------------+-------------------------+----------------------+----------------------+\n"
     ]
    }
   ],
   "source": [
    "# Test case5: Full Course Enrollment\n",
    "def test_case_full_course_enrollment():\n",
    "    # Initial data for test\n",
    "    student_id = 5  # Student ID 5 (Robert Johnson) exists\n",
    "    course_id = 2   # Course ID 2 exists and has max_capacity = 4\n",
    "\n",
    "    # Step 1: Attempt to enroll the student in a full course\n",
    "    print(f\"\\nAttempting to enroll Student ID {student_id} in Course ID {course_id} (which is already full).\")\n",
    "    enroll_student(student_id, course_id)  # This should trigger the \"course is full\" check\n",
    "\n",
    "    # Step 2: Query the Enrollments table to check if the enrollment failed\n",
    "    print(\"\\nChecking Enrollments table to confirm no enrollment was added for this full course:\")\n",
    "    query_enrollments_table()  # Should not show a new entry for student_id = 5 in course_id = 2\n",
    "\n",
    "    # Step 3: Verify no change in the CourseCapacityView\n",
    "    print(\"\\nChecking CourseCapacityView to ensure the remaining capacity is still 0 (indicating course is full):\")\n",
    "    query_course_capacity_view()  # Should still indicate the course is at full capacity\n",
    "\n",
    "# Run Test Case 5\n",
    "test_case_full_course_enrollment()\n"
   ]
  },
  {
   "cell_type": "markdown",
   "id": "384cefb7",
   "metadata": {},
   "source": [
    "# Test case 6: Prevent Enrollment If Student ID Does Not Exist"
   ]
  },
  {
   "cell_type": "code",
   "execution_count": 22,
   "id": "1a8090b6",
   "metadata": {},
   "outputs": [
    {
     "name": "stdout",
     "output_type": "stream",
     "text": [
      "Enrollment failed for Student ID 999 in Course ID 4: Enrollment failed: Student ID 999 does not exist\n",
      "CONTEXT:  PL/pgSQL function enrollstudent(integer,integer) line 8 at RAISE\n",
      "\n",
      "Enrollments Table contains the following records:\n",
      "+-----------------+--------------+-------------+----------------------------+\n",
      "|   enrollment_id |   student_id |   course_id | enrollment_date            |\n",
      "+=================+==============+=============+============================+\n",
      "|               1 |            1 |           1 | 2024-11-08 16:46:38.309118 |\n",
      "+-----------------+--------------+-------------+----------------------------+\n",
      "|               2 |            1 |           4 | 2024-11-08 16:46:46.629824 |\n",
      "+-----------------+--------------+-------------+----------------------------+\n",
      "|               3 |            2 |           4 | 2024-11-08 16:46:46.757886 |\n",
      "+-----------------+--------------+-------------+----------------------------+\n",
      "|               4 |            3 |           4 | 2024-11-08 16:46:46.886896 |\n",
      "+-----------------+--------------+-------------+----------------------------+\n",
      "|               6 |            1 |           2 | 2024-11-08 16:47:01.927326 |\n",
      "+-----------------+--------------+-------------+----------------------------+\n",
      "|               7 |            2 |           2 | 2024-11-08 16:47:01.990346 |\n",
      "+-----------------+--------------+-------------+----------------------------+\n",
      "|               8 |            3 |           2 | 2024-11-08 16:47:02.051897 |\n",
      "+-----------------+--------------+-------------+----------------------------+\n",
      "|               9 |            4 |           2 | 2024-11-08 16:47:02.116509 |\n",
      "+-----------------+--------------+-------------+----------------------------+\n"
     ]
    }
   ],
   "source": [
    "#Test case 6: Prevent Enrollment If Student ID Does Not Exist\n",
    "    \n",
    "def test_case_non_existent_student_enrollment():\n",
    "    student_id = 999  # Non-existent student ID\n",
    "    course_id = 4     # Course ID = 4 (Marketing Principles) exists in Courses table\n",
    "        \n",
    "    # Step 1: Attempt to enroll the non-existent student\n",
    "    enroll_student(student_id, course_id)\n",
    "    \n",
    "    # Step 2: Query Enrollments table to confirm no new entry\n",
    "    query_enrollments_table()\n",
    "\n",
    "# Run Test Case 6\n",
    "test_case_non_existent_student_enrollment()"
   ]
  },
  {
   "cell_type": "markdown",
   "id": "c3c9ee4c",
   "metadata": {},
   "source": [
    "# Test case 7: Attempt to Enroll Student in a Non-Existent Course"
   ]
  },
  {
   "cell_type": "code",
   "execution_count": 23,
   "id": "71be7843",
   "metadata": {},
   "outputs": [
    {
     "name": "stdout",
     "output_type": "stream",
     "text": [
      "Enrollment failed for Student ID 2 in Course ID 10: Enrollment failed: Course ID 10 does not exist\n",
      "CONTEXT:  PL/pgSQL function enrollstudent(integer,integer) line 13 at RAISE\n",
      "\n",
      "Enrollments Table contains the following records:\n",
      "+-----------------+--------------+-------------+----------------------------+\n",
      "|   enrollment_id |   student_id |   course_id | enrollment_date            |\n",
      "+=================+==============+=============+============================+\n",
      "|               1 |            1 |           1 | 2024-11-08 16:46:38.309118 |\n",
      "+-----------------+--------------+-------------+----------------------------+\n",
      "|               2 |            1 |           4 | 2024-11-08 16:46:46.629824 |\n",
      "+-----------------+--------------+-------------+----------------------------+\n",
      "|               3 |            2 |           4 | 2024-11-08 16:46:46.757886 |\n",
      "+-----------------+--------------+-------------+----------------------------+\n",
      "|               4 |            3 |           4 | 2024-11-08 16:46:46.886896 |\n",
      "+-----------------+--------------+-------------+----------------------------+\n",
      "|               6 |            1 |           2 | 2024-11-08 16:47:01.927326 |\n",
      "+-----------------+--------------+-------------+----------------------------+\n",
      "|               7 |            2 |           2 | 2024-11-08 16:47:01.990346 |\n",
      "+-----------------+--------------+-------------+----------------------------+\n",
      "|               8 |            3 |           2 | 2024-11-08 16:47:02.051897 |\n",
      "+-----------------+--------------+-------------+----------------------------+\n",
      "|               9 |            4 |           2 | 2024-11-08 16:47:02.116509 |\n",
      "+-----------------+--------------+-------------+----------------------------+\n"
     ]
    }
   ],
   "source": [
    "# Test case 7: Attempt to Enroll Student in a Non-Existent Course\n",
    "\n",
    "def test_case_non_existent_course_enrollment():\n",
    "    student_id = 2  # Student ID 2 (John Doe) exists in Students table\n",
    "    course_id = 10  # Non-existent course ID\n",
    "\n",
    "    # Step 1: Attempt to enroll the student in a non-existent course\n",
    "    enroll_student(student_id, course_id)\n",
    "    \n",
    "    # Step 2: Query Enrollments table to confirm no new entry\n",
    "    query_enrollments_table()\n",
    "\n",
    "# Run Test Case 7\n",
    "test_case_non_existent_course_enrollment()"
   ]
  },
  {
   "cell_type": "code",
   "execution_count": null,
   "id": "5d899049",
   "metadata": {},
   "outputs": [],
   "source": []
  }
 ],
 "metadata": {
  "kernelspec": {
   "display_name": "Python 3 (ipykernel)",
   "language": "python",
   "name": "python3"
  },
  "language_info": {
   "codemirror_mode": {
    "name": "ipython",
    "version": 3
   },
   "file_extension": ".py",
   "mimetype": "text/x-python",
   "name": "python",
   "nbconvert_exporter": "python",
   "pygments_lexer": "ipython3",
   "version": "3.9.12"
  }
 },
 "nbformat": 4,
 "nbformat_minor": 5
}
